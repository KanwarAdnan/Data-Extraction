{
 "cells": [
  {
   "cell_type": "markdown",
   "id": "e5514834",
   "metadata": {},
   "source": [
    "# APP BY KANWAR ADNAN"
   ]
  },
  {
   "cell_type": "code",
   "execution_count": 2,
   "id": "b9a084c6",
   "metadata": {},
   "outputs": [],
   "source": [
    "import os\n",
    "import PyPDF2\n",
    "\n",
    "class ExtractQuestions:\n",
    "    def __init__(self , pdf):\n",
    "        \"\"\"\n",
    "            PDF Questions Extractor for Numan Sadaf Notes PK\n",
    "            Program By Kanwar Adnan       \n",
    "        \"\"\"\n",
    "        # These are the data members\n",
    "        self.pdf = pdf\n",
    "        self.pages = None\n",
    "        self.data = []\n",
    "        try:\n",
    "            # Checking file existence   \n",
    "            if (os.path.exists(self.pdf)):\n",
    "\n",
    "                # Checking if file is pdf or not\n",
    "                base = os.path.basename(self.pdf)\n",
    "                self.file =  os.path.splitext(base)\n",
    "\n",
    "                if self.file[1] != '.pdf':\n",
    "                    raise Exception(\"Please Select a pdf file\")\n",
    "\n",
    "            else:\n",
    "                raise Exception(\"File does not exist\") \n",
    "\n",
    "            # creating a pdf file object \n",
    "            self.pdfFileObj = open(self.pdf, 'rb')\n",
    "\n",
    "            # creating a pdf reader object \n",
    "            self.pdfReader = PyPDF2.PdfFileReader(self.pdfFileObj) \n",
    "\n",
    "            #pages in pdf file \n",
    "            self.pages = self.pdfReader.numPages\n",
    "\n",
    "            # Appending the pages to self.data\n",
    "            for page in range(self.pages):\n",
    "                # creating a page object \n",
    "                pageObj = self.pdfReader.getPage(page)\n",
    "\n",
    "                # extracting text from page \n",
    "                data = pageObj.extractText()\n",
    "\n",
    "                self.data.append(data)\n",
    "\n",
    "            #closing the pdf file object \n",
    "            self.pdfFileObj.close()\n",
    "        except Exception as ex:\n",
    "            print(str(ex))\n",
    "\n",
    "    def extractQuestions(self , data):\n",
    "        \"\"\"\n",
    "            This is the main function which extracts questions.\n",
    "            This function will pass if data isn't our format.\n",
    "        \"\"\"\n",
    "        try:\n",
    "            # Replacing spaces with commas\n",
    "            questions = data.replace('\\n',',')\n",
    "\n",
    "            # Splitting with found separator \n",
    "            questions = questions.split('  ,')\n",
    "\n",
    "            # Extracting Questions from the list\n",
    "            questions = [i for i in questions if \"Question\" in i]\n",
    "            questions = [i.split(':')[1].strip() for i in questions]\n",
    "            return questions\n",
    "        except Exception as ex:\n",
    "            print(str(ex))\n",
    "    \n",
    "    def getAll(self):\n",
    "        \"\"\"\n",
    "            This method will return you all the questions in the pdf\n",
    "        \"\"\"\n",
    "        # This temp list will be used for storing the questions\n",
    "        # It will be 2d list\n",
    "        temp = []\n",
    "        \n",
    "        # Iterating over pages to get their questions\n",
    "        for page in range(self.pages):\n",
    "            # Getting data of page, stored in self.data\n",
    "            data = self.data[page]\n",
    "            \n",
    "            # Extracting it's questions\n",
    "            temp2 = self.extractQuestions(data)\n",
    "            \n",
    "            # Appending the output list in temp list\n",
    "            temp.append(temp2.copy())\n",
    "\n",
    "        # Converting 2d list to 1d\n",
    "        temp3 = [j for i in temp for j in i]\n",
    "        \n",
    "        # Saving output in text file\n",
    "        with open(self.file[0]+'.txt','w') as f:\n",
    "            f.write('\\n'.join(temp3))\n",
    "\n",
    "        # finally returning output list\n",
    "        return temp3.copy()\n"
   ]
  },
  {
   "cell_type": "code",
   "execution_count": 3,
   "id": "1d073059",
   "metadata": {},
   "outputs": [],
   "source": [
    "file = \"9th-Physics-EM_SQs-Chapter-1-to-2_Nauman-Sadaf_NOTESPK.pdf\""
   ]
  },
  {
   "cell_type": "code",
   "execution_count": 4,
   "id": "0c2cc1ef",
   "metadata": {},
   "outputs": [],
   "source": [
    "ex = ExtractQuestions(file)"
   ]
  },
  {
   "cell_type": "code",
   "execution_count": 5,
   "id": "4368c753",
   "metadata": {},
   "outputs": [],
   "source": [
    "questions = ex.getAll()"
   ]
  },
  {
   "cell_type": "code",
   "execution_count": 6,
   "id": "20dcad35",
   "metadata": {},
   "outputs": [
    {
     "name": "stdout",
     "output_type": "stream",
     "text": [
      "0 Define Science?\n",
      "1 Define Physics?  Write branches of Physics.\n",
      "2 Write the advantages of physics in everyday life.\n",
      "3 What  are the basic principles of physics in car and refrigerator?\n",
      "4 Define mechanics?\n",
      "5 Define  plasma and geo physics?\n",
      "6 Define electro -magnetism?\n",
      "7 Define atomic and nuclear physics?\n",
      "8 Define physica l Quantities.\n",
      "9 What is the difference between base and derived quantities?\n"
     ]
    }
   ],
   "source": [
    "# Printing first 10 questions\n",
    "for i,j in enumerate(questions[0:10]):\n",
    "    print(i,j)"
   ]
  }
 ],
 "metadata": {
  "kernelspec": {
   "display_name": "Python 3 (ipykernel)",
   "language": "python",
   "name": "python3"
  },
  "language_info": {
   "codemirror_mode": {
    "name": "ipython",
    "version": 3
   },
   "file_extension": ".py",
   "mimetype": "text/x-python",
   "name": "python",
   "nbconvert_exporter": "python",
   "pygments_lexer": "ipython3",
   "version": "3.10.4"
  },
  "vscode": {
   "interpreter": {
    "hash": "7a6d7f3593e39ec61fc38d9167a1905e63625ee91d96890caafb35f14cff2e01"
   }
  }
 },
 "nbformat": 4,
 "nbformat_minor": 5
}
